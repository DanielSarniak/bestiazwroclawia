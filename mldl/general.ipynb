{
  "cells": [
    {
      "cell_type": "markdown",
      "metadata": {
        "id": "y9N0HGHK1OIy"
      },
      "source": [
        "# Full set up"
      ]
    },
    {
      "cell_type": "markdown",
      "metadata": {
        "id": "Ebq6Wb1-vJjT"
      },
      "source": [
        "### packages"
      ]
    },
    {
      "cell_type": "code",
      "execution_count": null,
      "metadata": {
        "id": "Q-fW7uq6uBba",
        "colab": {
          "base_uri": "https://localhost:8080/"
        },
        "outputId": "fe00b10f-620c-43e7-c801-2534ec6776f8"
      },
      "outputs": [
        {
          "output_type": "stream",
          "name": "stdout",
          "text": [
            "Selecting previously unselected package zstd.\n",
            "(Reading database ... 128288 files and directories currently installed.)\n",
            "Preparing to unpack .../zstd_1.4.4+dfsg-3ubuntu0.1_amd64.deb ...\n",
            "Unpacking zstd (1.4.4+dfsg-3ubuntu0.1) ...\n",
            "Setting up zstd (1.4.4+dfsg-3ubuntu0.1) ...\n",
            "Processing triggers for man-db (2.9.1-1) ...\n"
          ]
        }
      ],
      "source": [
        "!apt-get -qq install zstd"
      ]
    },
    {
      "cell_type": "code",
      "execution_count": null,
      "metadata": {
        "id": "E9RjtimXt-sS",
        "colab": {
          "base_uri": "https://localhost:8080/"
        },
        "outputId": "a9a3d46e-5ee1-4296-a8ce-b298610b8591"
      },
      "outputs": [
        {
          "output_type": "stream",
          "name": "stdout",
          "text": [
            "\u001b[?25l     \u001b[90m━━━━━━━━━━━━━━━━━━━━━━━━━━━━━━━━━━━━━━━━\u001b[0m \u001b[32m0.0/149.1 KB\u001b[0m \u001b[31m?\u001b[0m eta \u001b[36m-:--:--\u001b[0m\r\u001b[2K     \u001b[91m━━━━━━━━━━━━━━━━━━━━━━━━━━━━━━━━━━━━━\u001b[0m\u001b[91m╸\u001b[0m\u001b[90m━\u001b[0m \u001b[32m143.4/149.1 KB\u001b[0m \u001b[31m4.7 MB/s\u001b[0m eta \u001b[36m0:00:01\u001b[0m\r\u001b[2K     \u001b[90m━━━━━━━━━━━━━━━━━━━━━━━━━━━━━━━━━━━━━━━\u001b[0m \u001b[32m149.1/149.1 KB\u001b[0m \u001b[31m1.4 MB/s\u001b[0m eta \u001b[36m0:00:00\u001b[0m\n",
            "\u001b[?25h"
          ]
        }
      ],
      "source": [
        "!pip install -q chess"
      ]
    },
    {
      "cell_type": "code",
      "execution_count": null,
      "metadata": {
        "id": "3p5XvstnuEpV"
      },
      "outputs": [],
      "source": [
        "import chess\n",
        "import chess.engine\n",
        "import chess.pgn\n",
        "\n",
        "import pandas as pd\n",
        "import numpy as np\n",
        "\n",
        "from tqdm import tqdm, trange"
      ]
    },
    {
      "cell_type": "markdown",
      "metadata": {
        "id": "F24bo-G31ibS"
      },
      "source": [
        "### lichess database: https://database.lichess.org/"
      ]
    },
    {
      "cell_type": "code",
      "execution_count": null,
      "metadata": {
        "colab": {
          "base_uri": "https://localhost:8080/"
        },
        "id": "dsoqNo_RjuCw",
        "outputId": "8463ec60-f7ef-43b7-e275-38036a1ffdc6"
      },
      "outputs": [
        {
          "output_type": "stream",
          "name": "stdout",
          "text": [
            "2023-03-31 08:11:34 URL:https://database.lichess.org/standard/lichess_db_standard_rated_2013-01.pgn.zst [17761302/17761302] -> \"lichess_db_standard_rated_2013-01.pgn.zst\" [1]\n"
          ]
        }
      ],
      "source": [
        "!wget --no-verbose https://database.lichess.org/standard/lichess_db_standard_rated_2013-01.pgn.zst"
      ]
    },
    {
      "cell_type": "code",
      "execution_count": null,
      "metadata": {
        "id": "HcN5zP3f2EtW",
        "colab": {
          "base_uri": "https://localhost:8080/"
        },
        "outputId": "b081c284-dff4-4125-b792-cc88c880491a"
      },
      "outputs": [
        {
          "output_type": "stream",
          "name": "stdout",
          "text": [
            "lichess_db_standard_rated_2013-01.pgn.zst: 92811021 bytes \n"
          ]
        }
      ],
      "source": [
        "!unzstd lichess_db_standard_rated_2013-01.pgn.zst -o lichess_db.pgn"
      ]
    },
    {
      "cell_type": "markdown",
      "metadata": {
        "id": "uzy8uncX1l2w"
      },
      "source": [
        "### Stockfish: https://stockfishchess.org/download/linux/"
      ]
    },
    {
      "cell_type": "code",
      "execution_count": null,
      "metadata": {
        "colab": {
          "base_uri": "https://localhost:8080/"
        },
        "id": "oTeZW-nN3RWR",
        "outputId": "fbdf75c8-c962-4eb9-86e3-7a83d423a62a"
      },
      "outputs": [
        {
          "output_type": "stream",
          "name": "stdout",
          "text": [
            "Model name:                      Intel(R) Xeon(R) CPU @ 2.20GHz\n"
          ]
        }
      ],
      "source": [
        "!lscpu | grep 'Model name'"
      ]
    },
    {
      "cell_type": "code",
      "execution_count": null,
      "metadata": {
        "colab": {
          "base_uri": "https://localhost:8080/"
        },
        "id": "NnNdE8HP2NMO",
        "outputId": "c5b20b72-a7fa-4490-9a96-6ef9bdfe76b8"
      },
      "outputs": [
        {
          "output_type": "stream",
          "name": "stdout",
          "text": [
            "2023-03-31 08:11:37 URL:https://stockfishchess.org/files/stockfish_15.1_linux_x64_avx2.zip [27166402/27166402] -> \"stockfish_15.1_linux_x64_avx2.zip\" [1]\n"
          ]
        }
      ],
      "source": [
        "!wget --no-verbose https://stockfishchess.org/files/stockfish_15.1_linux_x64_avx2.zip"
      ]
    },
    {
      "cell_type": "code",
      "execution_count": null,
      "metadata": {
        "id": "lt94Jr5S2Q1p",
        "colab": {
          "base_uri": "https://localhost:8080/"
        },
        "outputId": "8e56a2e6-93ad-4c1c-e911-1bd1083d7d95"
      },
      "outputs": [
        {
          "output_type": "stream",
          "name": "stdout",
          "text": [
            "Archive:  stockfish_15.1_linux_x64_avx2.zip\n",
            "  inflating: stockfish_15.1_linux_x64_avx2/stockfish-ubuntu-20.04-x86-64-avx2  \n"
          ]
        }
      ],
      "source": [
        "!unzip stockfish_15.1_linux_x64_avx2.zip stockfish_15.1_linux_x64_avx2/stockfish-ubuntu-20.04-x86-64-avx2"
      ]
    },
    {
      "cell_type": "markdown",
      "metadata": {
        "id": "gkhFwWhyjiVY"
      },
      "source": [
        "# Collect database"
      ]
    },
    {
      "cell_type": "code",
      "source": [
        "PIECES = [chess.PAWN, chess.KNIGHT, chess.BISHOP, chess.ROOK, chess.QUEEN, chess.KING]\n",
        "PLAYERS = [chess.WHITE, chess.BLACK]\n",
        "\n",
        "fix_names_func = {chess.WHITE: lambda x: x.upper(), chess.BLACK: lambda x: x.lower()}"
      ],
      "metadata": {
        "id": "_h2h2mxmuBtC"
      },
      "execution_count": null,
      "outputs": []
    },
    {
      "cell_type": "code",
      "execution_count": null,
      "metadata": {
        "id": "btk58bz16r3k"
      },
      "outputs": [],
      "source": [
        "def encode_board(board):\n",
        "    encoding = []\n",
        "    for player in PLAYERS:\n",
        "        for piece in PIECES:\n",
        "            encoding.extend(board.pieces(piece, player).tolist())\n",
        "        encoding.append(board.has_kingside_castling_rights(player))\n",
        "        encoding.append(board.has_queenside_castling_rights(player))\n",
        "    return encoding\n",
        "\n",
        "def get_columns_names():\n",
        "    columns = []\n",
        "    for player in PLAYERS:\n",
        "        for piece in PIECES:\n",
        "            symbol = fix_names_func[player](chess.piece_symbol(piece))\n",
        "            columns.extend(map(lambda square: f\"{square}{symbol}\", chess.SQUARE_NAMES))\n",
        "        columns.append(fix_names_func[player](\"K\"))\n",
        "        columns.append(fix_names_func[player](\"Q\"))\n",
        "    return columns"
      ]
    },
    {
      "cell_type": "code",
      "execution_count": null,
      "metadata": {
        "colab": {
          "base_uri": "https://localhost:8080/"
        },
        "id": "Z93SkY5MyA1-",
        "outputId": "9246f1f3-368e-42e0-81d1-c7c9522d94b5"
      },
      "outputs": [
        {
          "output_type": "stream",
          "name": "stderr",
          "text": [
            "100%|██████████| 100/100 [1:49:49<00:00, 65.90s/it]\n"
          ]
        }
      ],
      "source": [
        "pgn = open(\"lichess_db.pgn\")\n",
        "engine = chess.engine.SimpleEngine.popen_uci(\"stockfish_15.1_linux_x64_avx2/stockfish-ubuntu-20.04-x86-64-avx2\")\n",
        "\n",
        "white = []\n",
        "black = []\n",
        "\n",
        "MATE_SCORE = 1000000\n",
        "MAX_TIME = 1.0\n",
        "MIN_DEPTH = 18\n",
        "TIME_LIMIT = chess.engine.Limit(time=MAX_TIME)\n",
        "DEPTH_LIMIT = chess.engine.Limit(depth=MIN_DEPTH)\n",
        "\n",
        "DROP = 100\n",
        "TAKE = 100\n",
        "\n",
        "for _ in range(DROP):\n",
        "    game = chess.pgn.read_game(pgn)\n",
        "\n",
        "def board_score(board):\n",
        "    info = engine.analyse(board, TIME_LIMIT)\n",
        "    if info['depth'] < MIN_DEPTH and not info['score'].is_mate():\n",
        "        info = engine.analyse(board, DEPTH_LIMIT)\n",
        "    return info['score'].relative.score(mate_score=MATE_SCORE)\n",
        "\n",
        "for i in trange(TAKE):\n",
        "    game = chess.pgn.read_game(pgn)\n",
        "    if game is None:\n",
        "        break\n",
        "    board = game.board()\n",
        "    for move in game.mainline_moves():\n",
        "        board.push(move)\n",
        "        score = board_score(board)\n",
        "        row = encode_board(board)\n",
        "        row.append(score)\n",
        "        if board.turn == chess.WHITE:\n",
        "            white.append(row)\n",
        "        else:\n",
        "            black.append(row)"
      ]
    },
    {
      "cell_type": "code",
      "source": [
        "pgn.close()\n",
        "engine.close()"
      ],
      "metadata": {
        "id": "QwOlJdjRIQ1s"
      },
      "execution_count": null,
      "outputs": []
    },
    {
      "cell_type": "code",
      "execution_count": null,
      "metadata": {
        "id": "XSHl6yUYgqPI",
        "colab": {
          "base_uri": "https://localhost:8080/"
        },
        "outputId": "43c4cb8d-a55a-4e16-b6c0-0c9adec13110"
      },
      "outputs": [
        {
          "output_type": "execute_result",
          "data": {
            "text/plain": [
              "(3114, 3178)"
            ]
          },
          "metadata": {},
          "execution_count": 52
        }
      ],
      "source": [
        "columns = get_columns_names()\n",
        "columns.append('score')\n",
        "white_df = pd.DataFrame(white, columns=columns)\n",
        "black_df = pd.DataFrame(black, columns=columns)\n",
        "white_df.shape[0], black_df.shape[0]"
      ]
    },
    {
      "cell_type": "code",
      "source": [
        "white_df"
      ],
      "metadata": {
        "colab": {
          "base_uri": "https://localhost:8080/",
          "height": 424
        },
        "id": "byf_EhXNvjA_",
        "outputId": "8e0e4d91-f3b2-4c86-f1d1-519c20d6f04b"
      },
      "execution_count": null,
      "outputs": [
        {
          "output_type": "execute_result",
          "data": {
            "text/plain": [
              "        a1P    b1P    c1P    d1P    e1P    f1P    g1P    h1P    a2P   b2P  \\\n",
              "0     False  False  False  False  False  False  False  False   True  True   \n",
              "1     False  False  False  False  False  False  False  False   True  True   \n",
              "2     False  False  False  False  False  False  False  False  False  True   \n",
              "3     False  False  False  False  False  False  False  False  False  True   \n",
              "4     False  False  False  False  False  False  False  False  False  True   \n",
              "...     ...    ...    ...    ...    ...    ...    ...    ...    ...   ...   \n",
              "3109  False  False  False  False  False  False  False  False   True  True   \n",
              "3110  False  False  False  False  False  False  False  False   True  True   \n",
              "3111  False  False  False  False  False  False  False  False   True  True   \n",
              "3112  False  False  False  False  False  False  False  False   True  True   \n",
              "3113  False  False  False  False  False  False  False  False   True  True   \n",
              "\n",
              "      ...    b8k    c8k    d8k   e8k    f8k    g8k    h8k     k     q   score  \n",
              "0     ...  False  False  False  True  False  False  False  True  True      46  \n",
              "1     ...  False  False  False  True  False  False  False  True  True      83  \n",
              "2     ...  False  False  False  True  False  False  False  True  True      77  \n",
              "3     ...  False  False  False  True  False  False  False  True  True     152  \n",
              "4     ...  False  False  False  True  False  False  False  True  True     120  \n",
              "...   ...    ...    ...    ...   ...    ...    ...    ...   ...   ...     ...  \n",
              "3109  ...  False  False  False  True  False  False  False  True  True     134  \n",
              "3110  ...  False  False  False  True  False  False  False  True  True     320  \n",
              "3111  ...  False  False  False  True  False  False  False  True  True  999998  \n",
              "3112  ...  False  False  False  True  False  False  False  True  True     174  \n",
              "3113  ...  False  False  False  True  False  False  False  True  True  999998  \n",
              "\n",
              "[6182 rows x 773 columns]"
            ],
            "text/html": [
              "\n",
              "  <div id=\"df-1690fa57-faac-49e2-bd91-50be9a9aa48c\">\n",
              "    <div class=\"colab-df-container\">\n",
              "      <div>\n",
              "<style scoped>\n",
              "    .dataframe tbody tr th:only-of-type {\n",
              "        vertical-align: middle;\n",
              "    }\n",
              "\n",
              "    .dataframe tbody tr th {\n",
              "        vertical-align: top;\n",
              "    }\n",
              "\n",
              "    .dataframe thead th {\n",
              "        text-align: right;\n",
              "    }\n",
              "</style>\n",
              "<table border=\"1\" class=\"dataframe\">\n",
              "  <thead>\n",
              "    <tr style=\"text-align: right;\">\n",
              "      <th></th>\n",
              "      <th>a1P</th>\n",
              "      <th>b1P</th>\n",
              "      <th>c1P</th>\n",
              "      <th>d1P</th>\n",
              "      <th>e1P</th>\n",
              "      <th>f1P</th>\n",
              "      <th>g1P</th>\n",
              "      <th>h1P</th>\n",
              "      <th>a2P</th>\n",
              "      <th>b2P</th>\n",
              "      <th>...</th>\n",
              "      <th>b8k</th>\n",
              "      <th>c8k</th>\n",
              "      <th>d8k</th>\n",
              "      <th>e8k</th>\n",
              "      <th>f8k</th>\n",
              "      <th>g8k</th>\n",
              "      <th>h8k</th>\n",
              "      <th>k</th>\n",
              "      <th>q</th>\n",
              "      <th>score</th>\n",
              "    </tr>\n",
              "  </thead>\n",
              "  <tbody>\n",
              "    <tr>\n",
              "      <th>0</th>\n",
              "      <td>False</td>\n",
              "      <td>False</td>\n",
              "      <td>False</td>\n",
              "      <td>False</td>\n",
              "      <td>False</td>\n",
              "      <td>False</td>\n",
              "      <td>False</td>\n",
              "      <td>False</td>\n",
              "      <td>True</td>\n",
              "      <td>True</td>\n",
              "      <td>...</td>\n",
              "      <td>False</td>\n",
              "      <td>False</td>\n",
              "      <td>False</td>\n",
              "      <td>True</td>\n",
              "      <td>False</td>\n",
              "      <td>False</td>\n",
              "      <td>False</td>\n",
              "      <td>True</td>\n",
              "      <td>True</td>\n",
              "      <td>46</td>\n",
              "    </tr>\n",
              "    <tr>\n",
              "      <th>1</th>\n",
              "      <td>False</td>\n",
              "      <td>False</td>\n",
              "      <td>False</td>\n",
              "      <td>False</td>\n",
              "      <td>False</td>\n",
              "      <td>False</td>\n",
              "      <td>False</td>\n",
              "      <td>False</td>\n",
              "      <td>True</td>\n",
              "      <td>True</td>\n",
              "      <td>...</td>\n",
              "      <td>False</td>\n",
              "      <td>False</td>\n",
              "      <td>False</td>\n",
              "      <td>True</td>\n",
              "      <td>False</td>\n",
              "      <td>False</td>\n",
              "      <td>False</td>\n",
              "      <td>True</td>\n",
              "      <td>True</td>\n",
              "      <td>83</td>\n",
              "    </tr>\n",
              "    <tr>\n",
              "      <th>2</th>\n",
              "      <td>False</td>\n",
              "      <td>False</td>\n",
              "      <td>False</td>\n",
              "      <td>False</td>\n",
              "      <td>False</td>\n",
              "      <td>False</td>\n",
              "      <td>False</td>\n",
              "      <td>False</td>\n",
              "      <td>False</td>\n",
              "      <td>True</td>\n",
              "      <td>...</td>\n",
              "      <td>False</td>\n",
              "      <td>False</td>\n",
              "      <td>False</td>\n",
              "      <td>True</td>\n",
              "      <td>False</td>\n",
              "      <td>False</td>\n",
              "      <td>False</td>\n",
              "      <td>True</td>\n",
              "      <td>True</td>\n",
              "      <td>77</td>\n",
              "    </tr>\n",
              "    <tr>\n",
              "      <th>3</th>\n",
              "      <td>False</td>\n",
              "      <td>False</td>\n",
              "      <td>False</td>\n",
              "      <td>False</td>\n",
              "      <td>False</td>\n",
              "      <td>False</td>\n",
              "      <td>False</td>\n",
              "      <td>False</td>\n",
              "      <td>False</td>\n",
              "      <td>True</td>\n",
              "      <td>...</td>\n",
              "      <td>False</td>\n",
              "      <td>False</td>\n",
              "      <td>False</td>\n",
              "      <td>True</td>\n",
              "      <td>False</td>\n",
              "      <td>False</td>\n",
              "      <td>False</td>\n",
              "      <td>True</td>\n",
              "      <td>True</td>\n",
              "      <td>152</td>\n",
              "    </tr>\n",
              "    <tr>\n",
              "      <th>4</th>\n",
              "      <td>False</td>\n",
              "      <td>False</td>\n",
              "      <td>False</td>\n",
              "      <td>False</td>\n",
              "      <td>False</td>\n",
              "      <td>False</td>\n",
              "      <td>False</td>\n",
              "      <td>False</td>\n",
              "      <td>False</td>\n",
              "      <td>True</td>\n",
              "      <td>...</td>\n",
              "      <td>False</td>\n",
              "      <td>False</td>\n",
              "      <td>False</td>\n",
              "      <td>True</td>\n",
              "      <td>False</td>\n",
              "      <td>False</td>\n",
              "      <td>False</td>\n",
              "      <td>True</td>\n",
              "      <td>True</td>\n",
              "      <td>120</td>\n",
              "    </tr>\n",
              "    <tr>\n",
              "      <th>...</th>\n",
              "      <td>...</td>\n",
              "      <td>...</td>\n",
              "      <td>...</td>\n",
              "      <td>...</td>\n",
              "      <td>...</td>\n",
              "      <td>...</td>\n",
              "      <td>...</td>\n",
              "      <td>...</td>\n",
              "      <td>...</td>\n",
              "      <td>...</td>\n",
              "      <td>...</td>\n",
              "      <td>...</td>\n",
              "      <td>...</td>\n",
              "      <td>...</td>\n",
              "      <td>...</td>\n",
              "      <td>...</td>\n",
              "      <td>...</td>\n",
              "      <td>...</td>\n",
              "      <td>...</td>\n",
              "      <td>...</td>\n",
              "      <td>...</td>\n",
              "    </tr>\n",
              "    <tr>\n",
              "      <th>3109</th>\n",
              "      <td>False</td>\n",
              "      <td>False</td>\n",
              "      <td>False</td>\n",
              "      <td>False</td>\n",
              "      <td>False</td>\n",
              "      <td>False</td>\n",
              "      <td>False</td>\n",
              "      <td>False</td>\n",
              "      <td>True</td>\n",
              "      <td>True</td>\n",
              "      <td>...</td>\n",
              "      <td>False</td>\n",
              "      <td>False</td>\n",
              "      <td>False</td>\n",
              "      <td>True</td>\n",
              "      <td>False</td>\n",
              "      <td>False</td>\n",
              "      <td>False</td>\n",
              "      <td>True</td>\n",
              "      <td>True</td>\n",
              "      <td>134</td>\n",
              "    </tr>\n",
              "    <tr>\n",
              "      <th>3110</th>\n",
              "      <td>False</td>\n",
              "      <td>False</td>\n",
              "      <td>False</td>\n",
              "      <td>False</td>\n",
              "      <td>False</td>\n",
              "      <td>False</td>\n",
              "      <td>False</td>\n",
              "      <td>False</td>\n",
              "      <td>True</td>\n",
              "      <td>True</td>\n",
              "      <td>...</td>\n",
              "      <td>False</td>\n",
              "      <td>False</td>\n",
              "      <td>False</td>\n",
              "      <td>True</td>\n",
              "      <td>False</td>\n",
              "      <td>False</td>\n",
              "      <td>False</td>\n",
              "      <td>True</td>\n",
              "      <td>True</td>\n",
              "      <td>320</td>\n",
              "    </tr>\n",
              "    <tr>\n",
              "      <th>3111</th>\n",
              "      <td>False</td>\n",
              "      <td>False</td>\n",
              "      <td>False</td>\n",
              "      <td>False</td>\n",
              "      <td>False</td>\n",
              "      <td>False</td>\n",
              "      <td>False</td>\n",
              "      <td>False</td>\n",
              "      <td>True</td>\n",
              "      <td>True</td>\n",
              "      <td>...</td>\n",
              "      <td>False</td>\n",
              "      <td>False</td>\n",
              "      <td>False</td>\n",
              "      <td>True</td>\n",
              "      <td>False</td>\n",
              "      <td>False</td>\n",
              "      <td>False</td>\n",
              "      <td>True</td>\n",
              "      <td>True</td>\n",
              "      <td>999998</td>\n",
              "    </tr>\n",
              "    <tr>\n",
              "      <th>3112</th>\n",
              "      <td>False</td>\n",
              "      <td>False</td>\n",
              "      <td>False</td>\n",
              "      <td>False</td>\n",
              "      <td>False</td>\n",
              "      <td>False</td>\n",
              "      <td>False</td>\n",
              "      <td>False</td>\n",
              "      <td>True</td>\n",
              "      <td>True</td>\n",
              "      <td>...</td>\n",
              "      <td>False</td>\n",
              "      <td>False</td>\n",
              "      <td>False</td>\n",
              "      <td>True</td>\n",
              "      <td>False</td>\n",
              "      <td>False</td>\n",
              "      <td>False</td>\n",
              "      <td>True</td>\n",
              "      <td>True</td>\n",
              "      <td>174</td>\n",
              "    </tr>\n",
              "    <tr>\n",
              "      <th>3113</th>\n",
              "      <td>False</td>\n",
              "      <td>False</td>\n",
              "      <td>False</td>\n",
              "      <td>False</td>\n",
              "      <td>False</td>\n",
              "      <td>False</td>\n",
              "      <td>False</td>\n",
              "      <td>False</td>\n",
              "      <td>True</td>\n",
              "      <td>True</td>\n",
              "      <td>...</td>\n",
              "      <td>False</td>\n",
              "      <td>False</td>\n",
              "      <td>False</td>\n",
              "      <td>True</td>\n",
              "      <td>False</td>\n",
              "      <td>False</td>\n",
              "      <td>False</td>\n",
              "      <td>True</td>\n",
              "      <td>True</td>\n",
              "      <td>999998</td>\n",
              "    </tr>\n",
              "  </tbody>\n",
              "</table>\n",
              "<p>6182 rows × 773 columns</p>\n",
              "</div>\n",
              "      <button class=\"colab-df-convert\" onclick=\"convertToInteractive('df-1690fa57-faac-49e2-bd91-50be9a9aa48c')\"\n",
              "              title=\"Convert this dataframe to an interactive table.\"\n",
              "              style=\"display:none;\">\n",
              "        \n",
              "  <svg xmlns=\"http://www.w3.org/2000/svg\" height=\"24px\"viewBox=\"0 0 24 24\"\n",
              "       width=\"24px\">\n",
              "    <path d=\"M0 0h24v24H0V0z\" fill=\"none\"/>\n",
              "    <path d=\"M18.56 5.44l.94 2.06.94-2.06 2.06-.94-2.06-.94-.94-2.06-.94 2.06-2.06.94zm-11 1L8.5 8.5l.94-2.06 2.06-.94-2.06-.94L8.5 2.5l-.94 2.06-2.06.94zm10 10l.94 2.06.94-2.06 2.06-.94-2.06-.94-.94-2.06-.94 2.06-2.06.94z\"/><path d=\"M17.41 7.96l-1.37-1.37c-.4-.4-.92-.59-1.43-.59-.52 0-1.04.2-1.43.59L10.3 9.45l-7.72 7.72c-.78.78-.78 2.05 0 2.83L4 21.41c.39.39.9.59 1.41.59.51 0 1.02-.2 1.41-.59l7.78-7.78 2.81-2.81c.8-.78.8-2.07 0-2.86zM5.41 20L4 18.59l7.72-7.72 1.47 1.35L5.41 20z\"/>\n",
              "  </svg>\n",
              "      </button>\n",
              "      \n",
              "  <style>\n",
              "    .colab-df-container {\n",
              "      display:flex;\n",
              "      flex-wrap:wrap;\n",
              "      gap: 12px;\n",
              "    }\n",
              "\n",
              "    .colab-df-convert {\n",
              "      background-color: #E8F0FE;\n",
              "      border: none;\n",
              "      border-radius: 50%;\n",
              "      cursor: pointer;\n",
              "      display: none;\n",
              "      fill: #1967D2;\n",
              "      height: 32px;\n",
              "      padding: 0 0 0 0;\n",
              "      width: 32px;\n",
              "    }\n",
              "\n",
              "    .colab-df-convert:hover {\n",
              "      background-color: #E2EBFA;\n",
              "      box-shadow: 0px 1px 2px rgba(60, 64, 67, 0.3), 0px 1px 3px 1px rgba(60, 64, 67, 0.15);\n",
              "      fill: #174EA6;\n",
              "    }\n",
              "\n",
              "    [theme=dark] .colab-df-convert {\n",
              "      background-color: #3B4455;\n",
              "      fill: #D2E3FC;\n",
              "    }\n",
              "\n",
              "    [theme=dark] .colab-df-convert:hover {\n",
              "      background-color: #434B5C;\n",
              "      box-shadow: 0px 1px 3px 1px rgba(0, 0, 0, 0.15);\n",
              "      filter: drop-shadow(0px 1px 2px rgba(0, 0, 0, 0.3));\n",
              "      fill: #FFFFFF;\n",
              "    }\n",
              "  </style>\n",
              "\n",
              "      <script>\n",
              "        const buttonEl =\n",
              "          document.querySelector('#df-1690fa57-faac-49e2-bd91-50be9a9aa48c button.colab-df-convert');\n",
              "        buttonEl.style.display =\n",
              "          google.colab.kernel.accessAllowed ? 'block' : 'none';\n",
              "\n",
              "        async function convertToInteractive(key) {\n",
              "          const element = document.querySelector('#df-1690fa57-faac-49e2-bd91-50be9a9aa48c');\n",
              "          const dataTable =\n",
              "            await google.colab.kernel.invokeFunction('convertToInteractive',\n",
              "                                                     [key], {});\n",
              "          if (!dataTable) return;\n",
              "\n",
              "          const docLinkHtml = 'Like what you see? Visit the ' +\n",
              "            '<a target=\"_blank\" href=https://colab.research.google.com/notebooks/data_table.ipynb>data table notebook</a>'\n",
              "            + ' to learn more about interactive tables.';\n",
              "          element.innerHTML = '';\n",
              "          dataTable['output_type'] = 'display_data';\n",
              "          await google.colab.output.renderOutput(dataTable, element);\n",
              "          const docLink = document.createElement('div');\n",
              "          docLink.innerHTML = docLinkHtml;\n",
              "          element.appendChild(docLink);\n",
              "        }\n",
              "      </script>\n",
              "    </div>\n",
              "  </div>\n",
              "  "
            ]
          },
          "metadata": {},
          "execution_count": 107
        }
      ]
    },
    {
      "cell_type": "code",
      "execution_count": null,
      "metadata": {
        "id": "IdIss4SDBQWs"
      },
      "outputs": [],
      "source": [
        "white_df.to_csv(f'white_{DROP+1}-{DROP+TAKE}.csv', index=False, header=True)"
      ]
    },
    {
      "cell_type": "code",
      "execution_count": null,
      "metadata": {
        "id": "7BTu7Ha5BvQT"
      },
      "outputs": [],
      "source": [
        "black_df.to_csv(f'black_{DROP+1}-{DROP+TAKE}.csv', index=False, header=True)"
      ]
    },
    {
      "cell_type": "markdown",
      "source": [
        "# Quick set up"
      ],
      "metadata": {
        "id": "jFtxjPtHBcsl"
      }
    },
    {
      "cell_type": "code",
      "source": [
        "!pip install -q chess"
      ],
      "metadata": {
        "id": "IG12sc3ZBgrv"
      },
      "execution_count": null,
      "outputs": []
    },
    {
      "cell_type": "code",
      "source": [
        "import chess\n",
        "import chess.engine\n",
        "import chess.pgn"
      ],
      "metadata": {
        "id": "kiffCDKQBzYr"
      },
      "execution_count": null,
      "outputs": []
    },
    {
      "cell_type": "code",
      "source": [
        "PIECES = [chess.PAWN, chess.KNIGHT, chess.BISHOP, chess.ROOK, chess.QUEEN, chess.KING]\n",
        "PLAYERS = [chess.WHITE, chess.BLACK]\n",
        "\n",
        "fix_names_func = {chess.WHITE: lambda x: x.upper(), chess.BLACK: lambda x: x.lower()}"
      ],
      "metadata": {
        "id": "clfy5VstBhJC"
      },
      "execution_count": null,
      "outputs": []
    },
    {
      "cell_type": "code",
      "source": [
        "def get_columns_names():\n",
        "    columns = []\n",
        "    for player in PLAYERS:\n",
        "        for piece in PIECES:\n",
        "            symbol = fix_names_func[player](chess.piece_symbol(piece))\n",
        "            columns.extend(map(lambda square: f\"{square}{symbol}\", chess.SQUARE_NAMES))\n",
        "        columns.append(fix_names_func[player](\"K\"))\n",
        "        columns.append(fix_names_func[player](\"Q\"))\n",
        "    return columns"
      ],
      "metadata": {
        "id": "IXD3-u8nBn2u"
      },
      "execution_count": null,
      "outputs": []
    },
    {
      "cell_type": "markdown",
      "source": [
        "# Read database"
      ],
      "metadata": {
        "id": "RQq_S6zv8-bn"
      }
    },
    {
      "cell_type": "code",
      "source": [
        "import pandas as pd\n",
        "import numpy as np"
      ],
      "metadata": {
        "id": "XWjJOFGcAixR"
      },
      "execution_count": null,
      "outputs": []
    },
    {
      "cell_type": "code",
      "source": [
        "CHUNKS = 2\n",
        "\n",
        "white_frames = []\n",
        "black_frames = []\n",
        "\n",
        "for i in range(CHUNKS):\n",
        "    white_frames.append(pd.read_csv(f'white_{i*100+1}-{(i+1)*100}.csv'))\n",
        "    black_frames.append(pd.read_csv(f'black_{i*100+1}-{(i+1)*100}.csv'))\n",
        "\n",
        "white_all_df = pd.concat(white_frames).dropna()\n",
        "black_all_df = pd.concat(black_frames).dropna()\n",
        "\n",
        "white_all_df.shape[0], black_all_df.shape[0]"
      ],
      "metadata": {
        "colab": {
          "base_uri": "https://localhost:8080/"
        },
        "id": "yveZ7D8E9A47",
        "outputId": "ddceb885-35d8-492a-ee22-1c11f9f97a63"
      },
      "execution_count": null,
      "outputs": [
        {
          "output_type": "execute_result",
          "data": {
            "text/plain": [
              "(6182, 6303)"
            ]
          },
          "metadata": {},
          "execution_count": 12
        }
      ]
    },
    {
      "cell_type": "code",
      "source": [
        "columns = get_columns_names()\n",
        "\n",
        "white_df = white_all_df.drop_duplicates(subset=columns)\n",
        "black_df = black_all_df.drop_duplicates(subset=columns)\n",
        "\n",
        "white_df.shape[0], black_df.shape[0]"
      ],
      "metadata": {
        "colab": {
          "base_uri": "https://localhost:8080/"
        },
        "id": "Vv6oKsE8AkO4",
        "outputId": "9ed71e4b-946c-4255-ec37-bdcc7eb86edf"
      },
      "execution_count": null,
      "outputs": [
        {
          "output_type": "execute_result",
          "data": {
            "text/plain": [
              "(5840, 5865)"
            ]
          },
          "metadata": {},
          "execution_count": 13
        }
      ]
    },
    {
      "cell_type": "code",
      "source": [
        "SCORE_THRESHOLD = 100\n",
        "white_dataset = white_df[(white_df['score'] >= SCORE_THRESHOLD) | (white_df['score'] <= -SCORE_THRESHOLD)]\n",
        "black_dataset = black_df[(black_df['score'] >= SCORE_THRESHOLD) | (black_df['score'] <= -SCORE_THRESHOLD)]\n",
        "\n",
        "white_dataset.shape[0], black_dataset.shape[0]"
      ],
      "metadata": {
        "colab": {
          "base_uri": "https://localhost:8080/"
        },
        "id": "h7cShP62Am4s",
        "outputId": "ce210fbb-371d-438d-c928-36d2cb834814"
      },
      "execution_count": null,
      "outputs": [
        {
          "output_type": "execute_result",
          "data": {
            "text/plain": [
              "(3864, 3785)"
            ]
          },
          "metadata": {},
          "execution_count": 14
        }
      ]
    },
    {
      "cell_type": "markdown",
      "metadata": {
        "id": "_f9nQDknDdGL"
      },
      "source": [
        "# Classification"
      ]
    },
    {
      "cell_type": "code",
      "execution_count": null,
      "metadata": {
        "id": "LKrgmOQvGk_F"
      },
      "outputs": [],
      "source": [
        "from sklearn.model_selection import train_test_split"
      ]
    },
    {
      "cell_type": "markdown",
      "source": [
        "### logistic regression"
      ],
      "metadata": {
        "id": "siZ0GD2ezR0n"
      }
    },
    {
      "cell_type": "code",
      "execution_count": null,
      "metadata": {
        "id": "jrCc6MRBGkDs"
      },
      "outputs": [],
      "source": [
        "from sklearn.linear_model import LogisticRegression\n",
        "\n",
        "def test_lr(dataset):\n",
        "    X = dataset.drop(['score'], axis=1)\n",
        "    Y = dataset['score'] >= SCORE_THRESHOLD\n",
        "    X_trn, X_tst, y_trn, y_tst = train_test_split(X, Y, test_size=0.33, random_state=1)\n",
        "    print(\"score:\", LogisticRegression(random_state=1, max_iter=250).fit(X_trn, y_trn).score(X_tst, y_tst))\n"
      ]
    },
    {
      "cell_type": "code",
      "execution_count": null,
      "metadata": {
        "colab": {
          "base_uri": "https://localhost:8080/"
        },
        "id": "aVreQRJGNivP",
        "outputId": "56075c01-f66b-41a3-e3d8-97015fa1b4e3"
      },
      "outputs": [
        {
          "output_type": "stream",
          "name": "stdout",
          "text": [
            "score: 0.8683385579937304\n",
            "score: 0.8648\n"
          ]
        }
      ],
      "source": [
        "test_lr(white_dataset)\n",
        "test_lr(black_dataset)"
      ]
    },
    {
      "cell_type": "markdown",
      "source": [
        "### SVC"
      ],
      "metadata": {
        "id": "y7WJMoOnzYhs"
      }
    },
    {
      "cell_type": "code",
      "source": [
        "from sklearn.svm import SVC\n",
        "\n",
        "def test_svc_poly(dataset):\n",
        "    X = dataset.drop(['score'], axis=1)\n",
        "    Y = dataset['score'] >= SCORE_THRESHOLD\n",
        "    X_trn, X_tst, y_trn, y_tst = train_test_split(X, Y, test_size=0.33, random_state=1)\n",
        "    print(\"score:\", SVC(kernel='poly', degree=2).fit(X_trn, y_trn).score(X_tst, y_tst))\n",
        "\n",
        "def test_svc_rbf(dataset):\n",
        "    X = dataset.drop(['score'], axis=1)\n",
        "    Y = dataset['score'] >= SCORE_THRESHOLD\n",
        "    X_trn, X_tst, y_trn, y_tst = train_test_split(X, Y, test_size=0.33, random_state=1)\n",
        "    print(\"score:\", SVC(kernel='rbf', gamma='scale', C=30).fit(X_trn, y_trn).score(X_tst, y_tst)) "
      ],
      "metadata": {
        "id": "m5ngWRFkwmjV"
      },
      "execution_count": null,
      "outputs": []
    },
    {
      "cell_type": "code",
      "source": [
        "test_svc_poly(white_dataset)\n",
        "test_svc_poly(black_dataset)"
      ],
      "metadata": {
        "colab": {
          "base_uri": "https://localhost:8080/"
        },
        "id": "tO6RUln7yEEH",
        "outputId": "6c34f410-f01a-48c8-dd1e-3acb76238609"
      },
      "execution_count": null,
      "outputs": [
        {
          "output_type": "stream",
          "name": "stdout",
          "text": [
            "score: 0.9255485893416928\n",
            "score: 0.9232\n"
          ]
        }
      ]
    },
    {
      "cell_type": "code",
      "source": [
        "test_svc_rbf(white_dataset)\n",
        "test_svc_rbf(black_dataset)"
      ],
      "metadata": {
        "colab": {
          "base_uri": "https://localhost:8080/"
        },
        "id": "wTXUTgytw7Vw",
        "outputId": "808fa011-71e5-4f86-ee59-ae1c3c22554e"
      },
      "execution_count": null,
      "outputs": [
        {
          "output_type": "stream",
          "name": "stdout",
          "text": [
            "score: 0.9600313479623824\n",
            "score: 0.9592\n"
          ]
        }
      ]
    },
    {
      "cell_type": "markdown",
      "source": [
        "### Random Forest"
      ],
      "metadata": {
        "id": "-js0kv4IzbZ2"
      }
    },
    {
      "cell_type": "code",
      "source": [
        "from sklearn.ensemble import RandomForestClassifier\n",
        "\n",
        "def test_rf(dataset):\n",
        "    X = dataset.drop(['score'], axis=1)\n",
        "    Y = dataset['score'] >= SCORE_THRESHOLD\n",
        "    X_trn, X_tst, y_trn, y_tst = train_test_split(X, Y, test_size=0.33, random_state=1)\n",
        "    print(\"score:\", RandomForestClassifier(random_state=1, n_estimators=200).fit(X_trn, y_trn).score(X_tst, y_tst))"
      ],
      "metadata": {
        "id": "V1EQHzzxzCTx"
      },
      "execution_count": null,
      "outputs": []
    },
    {
      "cell_type": "code",
      "source": [
        "test_rf(white_dataset)\n",
        "test_rf(black_dataset)"
      ],
      "metadata": {
        "colab": {
          "base_uri": "https://localhost:8080/"
        },
        "id": "f9D0HpUfzMT-",
        "outputId": "60d8bd77-66a7-4715-a984-00aec6769d99"
      },
      "execution_count": null,
      "outputs": [
        {
          "output_type": "stream",
          "name": "stdout",
          "text": [
            "score: 0.9474921630094044\n",
            "score: 0.9576\n"
          ]
        }
      ]
    },
    {
      "cell_type": "markdown",
      "source": [
        "### xgboost"
      ],
      "metadata": {
        "id": "Ork6NfgQz0t_"
      }
    },
    {
      "cell_type": "code",
      "source": [
        "from xgboost import XGBClassifier\n",
        "\n",
        "def test_xgb(dataset):\n",
        "    X = dataset.drop(['score'], axis=1)\n",
        "    Y = dataset['score'] >= SCORE_THRESHOLD\n",
        "    X_trn, X_tst, y_trn, y_tst = train_test_split(X, Y, test_size=0.33, random_state=1)\n",
        "    print(\"score:\", XGBClassifier().fit(X_trn, y_trn).score(X_tst, y_tst))"
      ],
      "metadata": {
        "id": "clZGdcBNz0FB"
      },
      "execution_count": null,
      "outputs": []
    },
    {
      "cell_type": "code",
      "source": [
        "test_xgb(white_dataset)\n",
        "test_xgb(black_dataset)"
      ],
      "metadata": {
        "colab": {
          "base_uri": "https://localhost:8080/"
        },
        "id": "Q5TlHmJo5fBy",
        "outputId": "5f8c9791-2fef-4d6c-f1b8-d5e1db43f043"
      },
      "execution_count": null,
      "outputs": [
        {
          "output_type": "stream",
          "name": "stdout",
          "text": [
            "score: 0.9263322884012539\n",
            "score: 0.9432\n"
          ]
        }
      ]
    },
    {
      "cell_type": "markdown",
      "source": [
        "# Statistics"
      ],
      "metadata": {
        "id": "1a7q3mfFnN5-"
      }
    },
    {
      "cell_type": "code",
      "source": [
        "white_all_df.shape"
      ],
      "metadata": {
        "colab": {
          "base_uri": "https://localhost:8080/"
        },
        "id": "y-zYwsQPpyga",
        "outputId": "65b6f580-22ec-49a2-cde2-35193a6e24c0"
      },
      "execution_count": null,
      "outputs": [
        {
          "output_type": "execute_result",
          "data": {
            "text/plain": [
              "(6182, 773)"
            ]
          },
          "metadata": {},
          "execution_count": 25
        }
      ]
    },
    {
      "cell_type": "code",
      "source": [
        "def group(df):\n",
        "    columns = get_columns_names()\n",
        "    grouped = df.groupby(columns).agg({'score': ['min', 'max']})\n",
        "    grouped.columns = map(lambda x: x[1], grouped.columns)\n",
        "    grouped.index = np.arange(len(grouped.index))\n",
        "    return grouped[grouped['min'] != grouped['max']]"
      ],
      "metadata": {
        "id": "XAYNPnO6oU_s"
      },
      "execution_count": null,
      "outputs": []
    },
    {
      "cell_type": "code",
      "source": [
        "grouped = group(white_all_df)\n",
        "diff = pd.DataFrame(grouped['max'] - grouped['min'], columns=['diff'])\n",
        "grouped"
      ],
      "metadata": {
        "colab": {
          "base_uri": "https://localhost:8080/",
          "height": 424
        },
        "id": "1xywYWeMpXc0",
        "outputId": "97dc7bdd-6177-4928-9092-09440b927a58"
      },
      "execution_count": null,
      "outputs": [
        {
          "output_type": "execute_result",
          "data": {
            "text/plain": [
              "       min   max\n",
              "310   1398  1491\n",
              "342    368   418\n",
              "497    -22     0\n",
              "499    -38     0\n",
              "820    350   363\n",
              "...    ...   ...\n",
              "5825    20    52\n",
              "5826    51    72\n",
              "5827    23    56\n",
              "5829    14    24\n",
              "5837    45    53\n",
              "\n",
              "[128 rows x 2 columns]"
            ],
            "text/html": [
              "\n",
              "  <div id=\"df-adcc042f-f8b3-41a7-9c55-b62c3667c97a\">\n",
              "    <div class=\"colab-df-container\">\n",
              "      <div>\n",
              "<style scoped>\n",
              "    .dataframe tbody tr th:only-of-type {\n",
              "        vertical-align: middle;\n",
              "    }\n",
              "\n",
              "    .dataframe tbody tr th {\n",
              "        vertical-align: top;\n",
              "    }\n",
              "\n",
              "    .dataframe thead th {\n",
              "        text-align: right;\n",
              "    }\n",
              "</style>\n",
              "<table border=\"1\" class=\"dataframe\">\n",
              "  <thead>\n",
              "    <tr style=\"text-align: right;\">\n",
              "      <th></th>\n",
              "      <th>min</th>\n",
              "      <th>max</th>\n",
              "    </tr>\n",
              "  </thead>\n",
              "  <tbody>\n",
              "    <tr>\n",
              "      <th>310</th>\n",
              "      <td>1398</td>\n",
              "      <td>1491</td>\n",
              "    </tr>\n",
              "    <tr>\n",
              "      <th>342</th>\n",
              "      <td>368</td>\n",
              "      <td>418</td>\n",
              "    </tr>\n",
              "    <tr>\n",
              "      <th>497</th>\n",
              "      <td>-22</td>\n",
              "      <td>0</td>\n",
              "    </tr>\n",
              "    <tr>\n",
              "      <th>499</th>\n",
              "      <td>-38</td>\n",
              "      <td>0</td>\n",
              "    </tr>\n",
              "    <tr>\n",
              "      <th>820</th>\n",
              "      <td>350</td>\n",
              "      <td>363</td>\n",
              "    </tr>\n",
              "    <tr>\n",
              "      <th>...</th>\n",
              "      <td>...</td>\n",
              "      <td>...</td>\n",
              "    </tr>\n",
              "    <tr>\n",
              "      <th>5825</th>\n",
              "      <td>20</td>\n",
              "      <td>52</td>\n",
              "    </tr>\n",
              "    <tr>\n",
              "      <th>5826</th>\n",
              "      <td>51</td>\n",
              "      <td>72</td>\n",
              "    </tr>\n",
              "    <tr>\n",
              "      <th>5827</th>\n",
              "      <td>23</td>\n",
              "      <td>56</td>\n",
              "    </tr>\n",
              "    <tr>\n",
              "      <th>5829</th>\n",
              "      <td>14</td>\n",
              "      <td>24</td>\n",
              "    </tr>\n",
              "    <tr>\n",
              "      <th>5837</th>\n",
              "      <td>45</td>\n",
              "      <td>53</td>\n",
              "    </tr>\n",
              "  </tbody>\n",
              "</table>\n",
              "<p>128 rows × 2 columns</p>\n",
              "</div>\n",
              "      <button class=\"colab-df-convert\" onclick=\"convertToInteractive('df-adcc042f-f8b3-41a7-9c55-b62c3667c97a')\"\n",
              "              title=\"Convert this dataframe to an interactive table.\"\n",
              "              style=\"display:none;\">\n",
              "        \n",
              "  <svg xmlns=\"http://www.w3.org/2000/svg\" height=\"24px\"viewBox=\"0 0 24 24\"\n",
              "       width=\"24px\">\n",
              "    <path d=\"M0 0h24v24H0V0z\" fill=\"none\"/>\n",
              "    <path d=\"M18.56 5.44l.94 2.06.94-2.06 2.06-.94-2.06-.94-.94-2.06-.94 2.06-2.06.94zm-11 1L8.5 8.5l.94-2.06 2.06-.94-2.06-.94L8.5 2.5l-.94 2.06-2.06.94zm10 10l.94 2.06.94-2.06 2.06-.94-2.06-.94-.94-2.06-.94 2.06-2.06.94z\"/><path d=\"M17.41 7.96l-1.37-1.37c-.4-.4-.92-.59-1.43-.59-.52 0-1.04.2-1.43.59L10.3 9.45l-7.72 7.72c-.78.78-.78 2.05 0 2.83L4 21.41c.39.39.9.59 1.41.59.51 0 1.02-.2 1.41-.59l7.78-7.78 2.81-2.81c.8-.78.8-2.07 0-2.86zM5.41 20L4 18.59l7.72-7.72 1.47 1.35L5.41 20z\"/>\n",
              "  </svg>\n",
              "      </button>\n",
              "      \n",
              "  <style>\n",
              "    .colab-df-container {\n",
              "      display:flex;\n",
              "      flex-wrap:wrap;\n",
              "      gap: 12px;\n",
              "    }\n",
              "\n",
              "    .colab-df-convert {\n",
              "      background-color: #E8F0FE;\n",
              "      border: none;\n",
              "      border-radius: 50%;\n",
              "      cursor: pointer;\n",
              "      display: none;\n",
              "      fill: #1967D2;\n",
              "      height: 32px;\n",
              "      padding: 0 0 0 0;\n",
              "      width: 32px;\n",
              "    }\n",
              "\n",
              "    .colab-df-convert:hover {\n",
              "      background-color: #E2EBFA;\n",
              "      box-shadow: 0px 1px 2px rgba(60, 64, 67, 0.3), 0px 1px 3px 1px rgba(60, 64, 67, 0.15);\n",
              "      fill: #174EA6;\n",
              "    }\n",
              "\n",
              "    [theme=dark] .colab-df-convert {\n",
              "      background-color: #3B4455;\n",
              "      fill: #D2E3FC;\n",
              "    }\n",
              "\n",
              "    [theme=dark] .colab-df-convert:hover {\n",
              "      background-color: #434B5C;\n",
              "      box-shadow: 0px 1px 3px 1px rgba(0, 0, 0, 0.15);\n",
              "      filter: drop-shadow(0px 1px 2px rgba(0, 0, 0, 0.3));\n",
              "      fill: #FFFFFF;\n",
              "    }\n",
              "  </style>\n",
              "\n",
              "      <script>\n",
              "        const buttonEl =\n",
              "          document.querySelector('#df-adcc042f-f8b3-41a7-9c55-b62c3667c97a button.colab-df-convert');\n",
              "        buttonEl.style.display =\n",
              "          google.colab.kernel.accessAllowed ? 'block' : 'none';\n",
              "\n",
              "        async function convertToInteractive(key) {\n",
              "          const element = document.querySelector('#df-adcc042f-f8b3-41a7-9c55-b62c3667c97a');\n",
              "          const dataTable =\n",
              "            await google.colab.kernel.invokeFunction('convertToInteractive',\n",
              "                                                     [key], {});\n",
              "          if (!dataTable) return;\n",
              "\n",
              "          const docLinkHtml = 'Like what you see? Visit the ' +\n",
              "            '<a target=\"_blank\" href=https://colab.research.google.com/notebooks/data_table.ipynb>data table notebook</a>'\n",
              "            + ' to learn more about interactive tables.';\n",
              "          element.innerHTML = '';\n",
              "          dataTable['output_type'] = 'display_data';\n",
              "          await google.colab.output.renderOutput(dataTable, element);\n",
              "          const docLink = document.createElement('div');\n",
              "          docLink.innerHTML = docLinkHtml;\n",
              "          element.appendChild(docLink);\n",
              "        }\n",
              "      </script>\n",
              "    </div>\n",
              "  </div>\n",
              "  "
            ]
          },
          "metadata": {},
          "execution_count": 27
        }
      ]
    },
    {
      "cell_type": "code",
      "source": [
        "diff.sort_values('diff', axis=0)"
      ],
      "metadata": {
        "colab": {
          "base_uri": "https://localhost:8080/",
          "height": 424
        },
        "id": "3cQ0Uj3Gqd3l",
        "outputId": "5cb6ebc5-549c-4722-a9d7-d1bdc3b9f70d"
      },
      "execution_count": null,
      "outputs": [
        {
          "output_type": "execute_result",
          "data": {
            "text/plain": [
              "      diff\n",
              "5422     1\n",
              "5810     1\n",
              "3990     1\n",
              "5413     1\n",
              "5777     1\n",
              "...    ...\n",
              "5825    32\n",
              "5827    33\n",
              "499     38\n",
              "342     50\n",
              "310     93\n",
              "\n",
              "[128 rows x 1 columns]"
            ],
            "text/html": [
              "\n",
              "  <div id=\"df-5d4cf277-50e6-4ef9-96b1-a159c20d4326\">\n",
              "    <div class=\"colab-df-container\">\n",
              "      <div>\n",
              "<style scoped>\n",
              "    .dataframe tbody tr th:only-of-type {\n",
              "        vertical-align: middle;\n",
              "    }\n",
              "\n",
              "    .dataframe tbody tr th {\n",
              "        vertical-align: top;\n",
              "    }\n",
              "\n",
              "    .dataframe thead th {\n",
              "        text-align: right;\n",
              "    }\n",
              "</style>\n",
              "<table border=\"1\" class=\"dataframe\">\n",
              "  <thead>\n",
              "    <tr style=\"text-align: right;\">\n",
              "      <th></th>\n",
              "      <th>diff</th>\n",
              "    </tr>\n",
              "  </thead>\n",
              "  <tbody>\n",
              "    <tr>\n",
              "      <th>5422</th>\n",
              "      <td>1</td>\n",
              "    </tr>\n",
              "    <tr>\n",
              "      <th>5810</th>\n",
              "      <td>1</td>\n",
              "    </tr>\n",
              "    <tr>\n",
              "      <th>3990</th>\n",
              "      <td>1</td>\n",
              "    </tr>\n",
              "    <tr>\n",
              "      <th>5413</th>\n",
              "      <td>1</td>\n",
              "    </tr>\n",
              "    <tr>\n",
              "      <th>5777</th>\n",
              "      <td>1</td>\n",
              "    </tr>\n",
              "    <tr>\n",
              "      <th>...</th>\n",
              "      <td>...</td>\n",
              "    </tr>\n",
              "    <tr>\n",
              "      <th>5825</th>\n",
              "      <td>32</td>\n",
              "    </tr>\n",
              "    <tr>\n",
              "      <th>5827</th>\n",
              "      <td>33</td>\n",
              "    </tr>\n",
              "    <tr>\n",
              "      <th>499</th>\n",
              "      <td>38</td>\n",
              "    </tr>\n",
              "    <tr>\n",
              "      <th>342</th>\n",
              "      <td>50</td>\n",
              "    </tr>\n",
              "    <tr>\n",
              "      <th>310</th>\n",
              "      <td>93</td>\n",
              "    </tr>\n",
              "  </tbody>\n",
              "</table>\n",
              "<p>128 rows × 1 columns</p>\n",
              "</div>\n",
              "      <button class=\"colab-df-convert\" onclick=\"convertToInteractive('df-5d4cf277-50e6-4ef9-96b1-a159c20d4326')\"\n",
              "              title=\"Convert this dataframe to an interactive table.\"\n",
              "              style=\"display:none;\">\n",
              "        \n",
              "  <svg xmlns=\"http://www.w3.org/2000/svg\" height=\"24px\"viewBox=\"0 0 24 24\"\n",
              "       width=\"24px\">\n",
              "    <path d=\"M0 0h24v24H0V0z\" fill=\"none\"/>\n",
              "    <path d=\"M18.56 5.44l.94 2.06.94-2.06 2.06-.94-2.06-.94-.94-2.06-.94 2.06-2.06.94zm-11 1L8.5 8.5l.94-2.06 2.06-.94-2.06-.94L8.5 2.5l-.94 2.06-2.06.94zm10 10l.94 2.06.94-2.06 2.06-.94-2.06-.94-.94-2.06-.94 2.06-2.06.94z\"/><path d=\"M17.41 7.96l-1.37-1.37c-.4-.4-.92-.59-1.43-.59-.52 0-1.04.2-1.43.59L10.3 9.45l-7.72 7.72c-.78.78-.78 2.05 0 2.83L4 21.41c.39.39.9.59 1.41.59.51 0 1.02-.2 1.41-.59l7.78-7.78 2.81-2.81c.8-.78.8-2.07 0-2.86zM5.41 20L4 18.59l7.72-7.72 1.47 1.35L5.41 20z\"/>\n",
              "  </svg>\n",
              "      </button>\n",
              "      \n",
              "  <style>\n",
              "    .colab-df-container {\n",
              "      display:flex;\n",
              "      flex-wrap:wrap;\n",
              "      gap: 12px;\n",
              "    }\n",
              "\n",
              "    .colab-df-convert {\n",
              "      background-color: #E8F0FE;\n",
              "      border: none;\n",
              "      border-radius: 50%;\n",
              "      cursor: pointer;\n",
              "      display: none;\n",
              "      fill: #1967D2;\n",
              "      height: 32px;\n",
              "      padding: 0 0 0 0;\n",
              "      width: 32px;\n",
              "    }\n",
              "\n",
              "    .colab-df-convert:hover {\n",
              "      background-color: #E2EBFA;\n",
              "      box-shadow: 0px 1px 2px rgba(60, 64, 67, 0.3), 0px 1px 3px 1px rgba(60, 64, 67, 0.15);\n",
              "      fill: #174EA6;\n",
              "    }\n",
              "\n",
              "    [theme=dark] .colab-df-convert {\n",
              "      background-color: #3B4455;\n",
              "      fill: #D2E3FC;\n",
              "    }\n",
              "\n",
              "    [theme=dark] .colab-df-convert:hover {\n",
              "      background-color: #434B5C;\n",
              "      box-shadow: 0px 1px 3px 1px rgba(0, 0, 0, 0.15);\n",
              "      filter: drop-shadow(0px 1px 2px rgba(0, 0, 0, 0.3));\n",
              "      fill: #FFFFFF;\n",
              "    }\n",
              "  </style>\n",
              "\n",
              "      <script>\n",
              "        const buttonEl =\n",
              "          document.querySelector('#df-5d4cf277-50e6-4ef9-96b1-a159c20d4326 button.colab-df-convert');\n",
              "        buttonEl.style.display =\n",
              "          google.colab.kernel.accessAllowed ? 'block' : 'none';\n",
              "\n",
              "        async function convertToInteractive(key) {\n",
              "          const element = document.querySelector('#df-5d4cf277-50e6-4ef9-96b1-a159c20d4326');\n",
              "          const dataTable =\n",
              "            await google.colab.kernel.invokeFunction('convertToInteractive',\n",
              "                                                     [key], {});\n",
              "          if (!dataTable) return;\n",
              "\n",
              "          const docLinkHtml = 'Like what you see? Visit the ' +\n",
              "            '<a target=\"_blank\" href=https://colab.research.google.com/notebooks/data_table.ipynb>data table notebook</a>'\n",
              "            + ' to learn more about interactive tables.';\n",
              "          element.innerHTML = '';\n",
              "          dataTable['output_type'] = 'display_data';\n",
              "          await google.colab.output.renderOutput(dataTable, element);\n",
              "          const docLink = document.createElement('div');\n",
              "          docLink.innerHTML = docLinkHtml;\n",
              "          element.appendChild(docLink);\n",
              "        }\n",
              "      </script>\n",
              "    </div>\n",
              "  </div>\n",
              "  "
            ]
          },
          "metadata": {},
          "execution_count": 28
        }
      ]
    }
  ],
  "metadata": {
    "colab": {
      "provenance": [],
      "collapsed_sections": [
        "y9N0HGHK1OIy",
        "Ebq6Wb1-vJjT",
        "F24bo-G31ibS",
        "uzy8uncX1l2w",
        "gkhFwWhyjiVY",
        "_f9nQDknDdGL",
        "siZ0GD2ezR0n",
        "y7WJMoOnzYhs",
        "-js0kv4IzbZ2",
        "Ork6NfgQz0t_",
        "1a7q3mfFnN5-"
      ]
    },
    "kernelspec": {
      "display_name": "Python 3",
      "name": "python3"
    },
    "language_info": {
      "name": "python"
    }
  },
  "nbformat": 4,
  "nbformat_minor": 0
}