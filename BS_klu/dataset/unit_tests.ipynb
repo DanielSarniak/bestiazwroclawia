{
 "cells": [
  {
   "cell_type": "code",
   "execution_count": 12,
   "metadata": {},
   "outputs": [],
   "source": [
    "from dataset_management import DatasetManager, SimpleEncoder, EncodingType\n",
    "from typing import List"
   ]
  },
  {
   "cell_type": "code",
   "execution_count": 13,
   "metadata": {},
   "outputs": [],
   "source": [
    "import chess\n",
    "import chess.pgn\n",
    "import sys"
   ]
  },
  {
   "cell_type": "code",
   "execution_count": 14,
   "metadata": {},
   "outputs": [],
   "source": [
    "import tqdm\n",
    "import random\n",
    "import itertools\n",
    "import os"
   ]
  },
  {
   "cell_type": "code",
   "execution_count": 15,
   "metadata": {},
   "outputs": [],
   "source": [
    "def read_games(path : str) -> List[chess.pgn.Game]:\n",
    "    with open(path, 'r') as file:\n",
    "        print(f\"Processing file {path}\")\n",
    "        game = chess.pgn.read_game(file)\n",
    "        games = []\n",
    "        nr = 0\n",
    "        while game != None:\n",
    "            if nr % 100 == 0:\n",
    "                print(f\"{nr} games processed so far...\", end='\\r')\n",
    "            games.append(game)\n",
    "            game = chess.pgn.read_game(file)\n",
    "            nr += 1\n",
    "        print(100*' ', end='\\r')\n",
    "        print(\"Processing finished\")\n",
    "        print(f\"{nr} games have been loaded from the file {path}\")\n",
    "    return games"
   ]
  },
  {
   "cell_type": "code",
   "execution_count": 16,
   "metadata": {},
   "outputs": [],
   "source": [
    "def game_equality(g1 : chess.pgn.Game, g2 : chess.pgn.Game, s : str):\n",
    "    for i, (m1, m2) in enumerate(zip(g1.mainline_moves(), g2.mainline_moves())):\n",
    "        assert m1.uci() == m2.uci(), \\\n",
    "        s + f'move number: {i}, first game: {m1.uci()}, second game: {m2.uci()}'\n",
    "\n",
    "def test_encoder(games : List[chess.pgn.Game], encoder : EncodingType):\n",
    "    for j, game in tqdm.tqdm(enumerate(games)):\n",
    "        encoding = encoder.encode_pgn(game)\n",
    "        decoded = encoder.decode_to_pgn(encoding)\n",
    "        game_equality(game, decoded, f'game number: {j}')"
   ]
  },
  {
   "cell_type": "code",
   "execution_count": 17,
   "metadata": {},
   "outputs": [],
   "source": [
    "def test_game_generator_correctness(games : List[chess.pgn.Game], dataset : DatasetManager, n : int):\n",
    "    print(f'Running {n} tests')\n",
    "    total_games_tested = 0\n",
    "    for t in tqdm.tqdm(range(n)):\n",
    "        l, r = random.randint(0, len(games)-1), random.randint(0, len(games)-1)\n",
    "        if r < l:\n",
    "            l, r = r, l\n",
    "        for i, game in enumerate(dataset.games(l, r)):\n",
    "            original_game = games[l+i]\n",
    "            game_equality(original_game, game, f'interval: [{l}, {r}], game number: {l+i}')\n",
    "        total_games_tested += r-l+1\n",
    "        tqdm.tqdm.write(f'{total_games_tested} games checked so far')\n",
    "    print(f'Finished, {n} tests passed, {total_games_tested} games checked in total')\n",
    "            "
   ]
  },
  {
   "cell_type": "code",
   "execution_count": 18,
   "metadata": {},
   "outputs": [],
   "source": [
    "def test_position_selector_correctness(games : List[chess.pgn.Game], dataset : DatasetManager, n : int):\n",
    "    print(f'Running {n} tests')\n",
    "    total_moves_on_prefix = list(itertools.accumulate(map(lambda x: len(list(x.mainline_moves())), games), initial=0))\n",
    "    total_moves_tested = 0\n",
    "    for t in tqdm.tqdm(range(n)):\n",
    "        game_id = random.randint(0, len(games)-1)\n",
    "        for i, m in enumerate(games[game_id].mainline_moves()):\n",
    "            position_id = total_moves_on_prefix[game_id] + i\n",
    "            move_id, g = dataset.game_by_position_id(position_id)\n",
    "            assert i == move_id, \"wrong move index\"\n",
    "            game_equality(games[game_id], g, f'position id: {position_id}')\n",
    "            total_moves_tested += 1\n",
    "        if t % 10 == 0:\n",
    "            tqdm.tqdm.write(f'{total_moves_tested} positions checked so far')\n",
    "    print(f'Finished, {n} tests passed, {total_moves_tested} positions checked in total')\n"
   ]
  },
  {
   "cell_type": "code",
   "execution_count": 19,
   "metadata": {},
   "outputs": [],
   "source": [
    "dataset = DatasetManager('my_dataset', create_empty=True)"
   ]
  },
  {
   "cell_type": "code",
   "execution_count": 20,
   "metadata": {},
   "outputs": [],
   "source": [
    "encoder = SimpleEncoder()"
   ]
  },
  {
   "cell_type": "code",
   "execution_count": 21,
   "metadata": {},
   "outputs": [
    {
     "name": "stdout",
     "output_type": "stream",
     "text": [
      "max_number_of_games: 1000\n"
     ]
    }
   ],
   "source": [
    "dataset.add_pgn_file(os.path.join('Lichess Elite Database', 'lichess_elite_2016-01.pgn'))"
   ]
  },
  {
   "cell_type": "code",
   "execution_count": null,
   "metadata": {},
   "outputs": [],
   "source": [
    "games = read_games(os.path.join('Lichess Elite Database', 'lichess_elite_2016-01.pgn'))"
   ]
  },
  {
   "cell_type": "code",
   "execution_count": null,
   "metadata": {},
   "outputs": [],
   "source": [
    "test_encoder(games, encoder)"
   ]
  },
  {
   "cell_type": "code",
   "execution_count": null,
   "metadata": {},
   "outputs": [],
   "source": [
    "test_position_selector_correctness(games, dataset, 1000)"
   ]
  },
  {
   "cell_type": "code",
   "execution_count": null,
   "metadata": {},
   "outputs": [],
   "source": [
    "test_game_generator_correctness(games, dataset, 10)"
   ]
  },
  {
   "cell_type": "code",
   "execution_count": null,
   "metadata": {},
   "outputs": [],
   "source": [
    "#Testing loading existings dataset\n",
    "dataset = DatasetManager('my_dataset', create_empty=False)"
   ]
  },
  {
   "cell_type": "code",
   "execution_count": null,
   "metadata": {},
   "outputs": [],
   "source": [
    "test_game_generator_correctness(games, dataset, 10)"
   ]
  },
  {
   "cell_type": "code",
   "execution_count": null,
   "metadata": {},
   "outputs": [],
   "source": [
    "dataset.add_pgn_file(os.path.join('Lichess Elite Database', 'lichess_elite_2015-11.pgn'))"
   ]
  },
  {
   "cell_type": "code",
   "execution_count": null,
   "metadata": {},
   "outputs": [],
   "source": [
    "games.extend(read_games(os.path.join('Lichess Elite Database', 'lichess_elite_2015-11.pgn')))"
   ]
  },
  {
   "cell_type": "code",
   "execution_count": null,
   "metadata": {},
   "outputs": [],
   "source": [
    "test_game_generator_correctness(games, dataset, 10)"
   ]
  }
 ],
 "metadata": {
  "kernelspec": {
   "display_name": "chess_engine",
   "language": "python",
   "name": "python3"
  },
  "language_info": {
   "codemirror_mode": {
    "name": "ipython",
    "version": 3
   },
   "file_extension": ".py",
   "mimetype": "text/x-python",
   "name": "python",
   "nbconvert_exporter": "python",
   "pygments_lexer": "ipython3",
   "version": "3.10.9"
  },
  "orig_nbformat": 4,
  "vscode": {
   "interpreter": {
    "hash": "57cd88ee88cddfb4474201bbaa3abcf495863576c47430790f36234882aa0e2f"
   }
  }
 },
 "nbformat": 4,
 "nbformat_minor": 2
}
