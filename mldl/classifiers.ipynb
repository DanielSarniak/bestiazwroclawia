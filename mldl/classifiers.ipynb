{
 "cells": [
  {
   "cell_type": "code",
   "execution_count": 1,
   "metadata": {
    "id": "3p5XvstnuEpV"
   },
   "outputs": [],
   "source": [
    "import pandas as pd\n",
    "import numpy as np"
   ]
  },
  {
   "cell_type": "markdown",
   "metadata": {
    "id": "gkhFwWhyjiVY"
   },
   "source": [
    "# Open database"
   ]
  },
  {
   "cell_type": "code",
   "execution_count": 2,
   "metadata": {
    "colab": {
     "base_uri": "https://localhost:8080/"
    },
    "id": "h7cShP62Am4s",
    "outputId": "ce210fbb-371d-438d-c928-36d2cb834814"
   },
   "outputs": [],
   "source": [
    "from utils import (\n",
    "    read_database,\n",
    "    train_test_split_by_game_id,\n",
    "    filter_dataset,\n",
    "    get_features_and_labels\n",
    ")"
   ]
  },
  {
   "cell_type": "code",
   "execution_count": 3,
   "metadata": {},
   "outputs": [],
   "source": [
    "database_directory = \"/home/database\"\n",
    "score_threshold = 100"
   ]
  },
  {
   "cell_type": "code",
   "execution_count": 4,
   "metadata": {},
   "outputs": [],
   "source": [
    "white_df, black_df = read_database(database_directory)\n",
    "\n",
    "white_df_filtered = filter_dataset(white_df, score_threshold)\n",
    "black_df_filtered = filter_dataset(black_df, score_threshold)\n",
    "\n",
    "trn_w, tst_w, trn_b, tst_b = train_test_split_by_game_id(white_df_filtered, black_df_filtered)"
   ]
  },
  {
   "cell_type": "code",
   "execution_count": 5,
   "metadata": {},
   "outputs": [
    {
     "name": "stdout",
     "output_type": "stream",
     "text": [
      "white dataset: 106268\n",
      "black dataset: 104345\n",
      "white train  : 75602\n",
      "black train  : 74199\n",
      "white test   : 30666\n",
      "black test   : 30146\n"
     ]
    }
   ],
   "source": [
    "print(\"white dataset:\", white_df_filtered.shape[0])\n",
    "print(\"black dataset:\", black_df_filtered.shape[0])\n",
    "print(\"white train  :\", trn_w.shape[0])\n",
    "print(\"black train  :\", trn_b.shape[0])\n",
    "print(\"white test   :\", tst_w.shape[0])\n",
    "print(\"black test   :\", tst_b.shape[0])"
   ]
  },
  {
   "cell_type": "markdown",
   "metadata": {
    "id": "_f9nQDknDdGL"
   },
   "source": [
    "# Classification"
   ]
  },
  {
   "cell_type": "markdown",
   "metadata": {
    "id": "siZ0GD2ezR0n"
   },
   "source": [
    "### logistic regression"
   ]
  },
  {
   "cell_type": "code",
   "execution_count": 6,
   "metadata": {
    "id": "jrCc6MRBGkDs"
   },
   "outputs": [],
   "source": [
    "from sklearn.linear_model import LogisticRegression\n",
    "\n",
    "def test_lr(trn, tst, **kwargs):\n",
    "    X_trn, y_trn = get_features_and_labels(trn)\n",
    "    X_tst, y_tst = get_features_and_labels(tst)\n",
    "    return LogisticRegression(random_state=1, **kwargs).fit(X_trn, y_trn).score(X_tst, y_tst)"
   ]
  },
  {
   "cell_type": "code",
   "execution_count": 7,
   "metadata": {
    "colab": {
     "base_uri": "https://localhost:8080/"
    },
    "id": "aVreQRJGNivP",
    "outputId": "56075c01-f66b-41a3-e3d8-97015fa1b4e3"
   },
   "outputs": [
    {
     "name": "stdout",
     "output_type": "stream",
     "text": [
      "white: 0.87\n",
      "black: 0.86\n"
     ]
    }
   ],
   "source": [
    "print(f\"white: {test_lr(trn_w, tst_w, max_iter=400):.2f}\")\n",
    "print(f\"black: {test_lr(trn_b, tst_b, max_iter=400):.2f}\")"
   ]
  },
  {
   "cell_type": "markdown",
   "metadata": {
    "id": "-js0kv4IzbZ2"
   },
   "source": [
    "### Random Forest"
   ]
  },
  {
   "cell_type": "code",
   "execution_count": 8,
   "metadata": {
    "id": "V1EQHzzxzCTx"
   },
   "outputs": [],
   "source": [
    "from sklearn.ensemble import RandomForestClassifier\n",
    "\n",
    "def test_rf(trn, tst, **kwargs):\n",
    "    X_trn, y_trn = get_features_and_labels(trn)\n",
    "    X_tst, y_tst = get_features_and_labels(tst)\n",
    "    return RandomForestClassifier(random_state=1, **kwargs).fit(X_trn, y_trn).score(X_tst, y_tst)"
   ]
  },
  {
   "cell_type": "code",
   "execution_count": 9,
   "metadata": {
    "colab": {
     "base_uri": "https://localhost:8080/"
    },
    "id": "f9D0HpUfzMT-",
    "outputId": "60d8bd77-66a7-4715-a984-00aec6769d99"
   },
   "outputs": [
    {
     "name": "stdout",
     "output_type": "stream",
     "text": [
      "white: 0.69\n",
      "black: 0.68\n"
     ]
    }
   ],
   "source": [
    "print(f\"white: {test_rf(trn_w, tst_w, n_estimators=200):.2f}\")\n",
    "print(f\"black: {test_rf(trn_b, tst_b, n_estimators=200):.2f}\")"
   ]
  },
  {
   "cell_type": "markdown",
   "metadata": {
    "id": "Ork6NfgQz0t_"
   },
   "source": [
    "### xgboost"
   ]
  },
  {
   "cell_type": "code",
   "execution_count": 10,
   "metadata": {
    "id": "clZGdcBNz0FB"
   },
   "outputs": [],
   "source": [
    "from xgboost import XGBClassifier\n",
    "\n",
    "def test_xgb(trn, tst):\n",
    "    X_trn, y_trn = get_features_and_labels(trn)\n",
    "    X_tst, y_tst = get_features_and_labels(tst)\n",
    "    return XGBClassifier().fit(X_trn, y_trn).score(X_tst, y_tst)"
   ]
  },
  {
   "cell_type": "code",
   "execution_count": 11,
   "metadata": {
    "colab": {
     "base_uri": "https://localhost:8080/"
    },
    "id": "Q5TlHmJo5fBy",
    "outputId": "5f8c9791-2fef-4d6c-f1b8-d5e1db43f043"
   },
   "outputs": [
    {
     "name": "stdout",
     "output_type": "stream",
     "text": [
      "white: 0.71\n",
      "black: 0.70\n"
     ]
    }
   ],
   "source": [
    "print(f\"white: {test_xgb(trn_w, tst_w):.2f}\")\n",
    "print(f\"black: {test_xgb(trn_b, tst_b):.2f}\")"
   ]
  },
  {
   "cell_type": "markdown",
   "metadata": {
    "id": "y7WJMoOnzYhs"
   },
   "source": [
    "### SVC"
   ]
  },
  {
   "cell_type": "code",
   "execution_count": null,
   "metadata": {
    "id": "m5ngWRFkwmjV"
   },
   "outputs": [],
   "source": [
    "from sklearn.svm import SVC\n",
    "\n",
    "def test_svc(trn, tst, **kwargs):\n",
    "    X_trn, y_trn = get_features_and_labels(trn)\n",
    "    X_tst, y_tst = get_features_and_labels(tst)\n",
    "    return SVC(**kwargs).fit(X_trn, y_trn).score(X_tst, y_tst)"
   ]
  },
  {
   "cell_type": "code",
   "execution_count": null,
   "metadata": {
    "colab": {
     "base_uri": "https://localhost:8080/"
    },
    "id": "tO6RUln7yEEH",
    "outputId": "6c34f410-f01a-48c8-dd1e-3acb76238609"
   },
   "outputs": [],
   "source": [
    "print(f\"white: {test_svc(trn_w, tst_w, kernel='poly', degree=2):.2f}\")\n",
    "print(f\"black: {test_svc(trn_b, tst_b, kernel='poly', degree=2):.2f}\")"
   ]
  },
  {
   "cell_type": "code",
   "execution_count": null,
   "metadata": {
    "colab": {
     "base_uri": "https://localhost:8080/"
    },
    "id": "wTXUTgytw7Vw",
    "outputId": "808fa011-71e5-4f86-ee59-ae1c3c22554e"
   },
   "outputs": [],
   "source": [
    "print(f\"white: {test_svc(trn_w, tst_w, kernel='rbf', gamma='scale', C=30):.2f}\")\n",
    "print(f\"black: {test_svc(trn_b, tst_b, kernel='rbf', gamma='scale', C=30):.2f}\")"
   ]
  }
 ],
 "metadata": {
  "colab": {
   "collapsed_sections": [
    "y9N0HGHK1OIy",
    "Ebq6Wb1-vJjT",
    "F24bo-G31ibS",
    "uzy8uncX1l2w",
    "gkhFwWhyjiVY",
    "_f9nQDknDdGL",
    "siZ0GD2ezR0n",
    "y7WJMoOnzYhs",
    "-js0kv4IzbZ2",
    "Ork6NfgQz0t_",
    "1a7q3mfFnN5-"
   ],
   "provenance": []
  },
  "kernelspec": {
   "display_name": "Python 3 (ipykernel)",
   "language": "python",
   "name": "python3"
  },
  "language_info": {
   "codemirror_mode": {
    "name": "ipython",
    "version": 3
   },
   "file_extension": ".py",
   "mimetype": "text/x-python",
   "name": "python",
   "nbconvert_exporter": "python",
   "pygments_lexer": "ipython3",
   "version": "3.8.10"
  }
 },
 "nbformat": 4,
 "nbformat_minor": 1
}
