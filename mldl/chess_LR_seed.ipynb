{
 "cells": [
  {
   "cell_type": "code",
   "execution_count": 1,
   "id": "fe825bd9",
   "metadata": {},
   "outputs": [],
   "source": [
    "import pandas as pd\n",
    "import numpy as np"
   ]
  },
  {
   "cell_type": "code",
   "execution_count": 3,
   "id": "a7c6d9bc",
   "metadata": {},
   "outputs": [
    {
     "data": {
      "text/plain": [
       "(6182, 6303)"
      ]
     },
     "execution_count": 3,
     "metadata": {},
     "output_type": "execute_result"
    }
   ],
   "source": [
    "CHUNKS = 2\n",
    "\n",
    "white_frames = []\n",
    "black_frames = []\n",
    "\n",
    "for i in range(CHUNKS):\n",
    "    white_frames.append(pd.read_csv(f'database/white_{i*100+1}-{(i+1)*100}.csv'))\n",
    "    black_frames.append(pd.read_csv(f'database/black_{i*100+1}-{(i+1)*100}.csv'))\n",
    "\n",
    "white_all_df = pd.concat(white_frames).dropna()\n",
    "black_all_df = pd.concat(black_frames).dropna()\n",
    "\n",
    "white_all_df.shape[0], black_all_df.shape[0]"
   ]
  },
  {
   "cell_type": "code",
   "execution_count": 4,
   "id": "be60db4c",
   "metadata": {},
   "outputs": [
    {
     "data": {
      "text/html": [
       "<div>\n",
       "<style scoped>\n",
       "    .dataframe tbody tr th:only-of-type {\n",
       "        vertical-align: middle;\n",
       "    }\n",
       "\n",
       "    .dataframe tbody tr th {\n",
       "        vertical-align: top;\n",
       "    }\n",
       "\n",
       "    .dataframe thead th {\n",
       "        text-align: right;\n",
       "    }\n",
       "</style>\n",
       "<table border=\"1\" class=\"dataframe\">\n",
       "  <thead>\n",
       "    <tr style=\"text-align: right;\">\n",
       "      <th></th>\n",
       "      <th>a1P</th>\n",
       "      <th>b1P</th>\n",
       "      <th>c1P</th>\n",
       "      <th>d1P</th>\n",
       "      <th>e1P</th>\n",
       "      <th>f1P</th>\n",
       "      <th>g1P</th>\n",
       "      <th>h1P</th>\n",
       "      <th>a2P</th>\n",
       "      <th>b2P</th>\n",
       "      <th>...</th>\n",
       "      <th>b8k</th>\n",
       "      <th>c8k</th>\n",
       "      <th>d8k</th>\n",
       "      <th>e8k</th>\n",
       "      <th>f8k</th>\n",
       "      <th>g8k</th>\n",
       "      <th>h8k</th>\n",
       "      <th>k</th>\n",
       "      <th>q</th>\n",
       "      <th>score</th>\n",
       "    </tr>\n",
       "  </thead>\n",
       "  <tbody>\n",
       "    <tr>\n",
       "      <th>0</th>\n",
       "      <td>False</td>\n",
       "      <td>False</td>\n",
       "      <td>False</td>\n",
       "      <td>False</td>\n",
       "      <td>False</td>\n",
       "      <td>False</td>\n",
       "      <td>False</td>\n",
       "      <td>False</td>\n",
       "      <td>True</td>\n",
       "      <td>True</td>\n",
       "      <td>...</td>\n",
       "      <td>False</td>\n",
       "      <td>False</td>\n",
       "      <td>False</td>\n",
       "      <td>True</td>\n",
       "      <td>False</td>\n",
       "      <td>False</td>\n",
       "      <td>False</td>\n",
       "      <td>True</td>\n",
       "      <td>True</td>\n",
       "      <td>46</td>\n",
       "    </tr>\n",
       "    <tr>\n",
       "      <th>1</th>\n",
       "      <td>False</td>\n",
       "      <td>False</td>\n",
       "      <td>False</td>\n",
       "      <td>False</td>\n",
       "      <td>False</td>\n",
       "      <td>False</td>\n",
       "      <td>False</td>\n",
       "      <td>False</td>\n",
       "      <td>True</td>\n",
       "      <td>True</td>\n",
       "      <td>...</td>\n",
       "      <td>False</td>\n",
       "      <td>False</td>\n",
       "      <td>False</td>\n",
       "      <td>True</td>\n",
       "      <td>False</td>\n",
       "      <td>False</td>\n",
       "      <td>False</td>\n",
       "      <td>True</td>\n",
       "      <td>True</td>\n",
       "      <td>83</td>\n",
       "    </tr>\n",
       "    <tr>\n",
       "      <th>2</th>\n",
       "      <td>False</td>\n",
       "      <td>False</td>\n",
       "      <td>False</td>\n",
       "      <td>False</td>\n",
       "      <td>False</td>\n",
       "      <td>False</td>\n",
       "      <td>False</td>\n",
       "      <td>False</td>\n",
       "      <td>False</td>\n",
       "      <td>True</td>\n",
       "      <td>...</td>\n",
       "      <td>False</td>\n",
       "      <td>False</td>\n",
       "      <td>False</td>\n",
       "      <td>True</td>\n",
       "      <td>False</td>\n",
       "      <td>False</td>\n",
       "      <td>False</td>\n",
       "      <td>True</td>\n",
       "      <td>True</td>\n",
       "      <td>77</td>\n",
       "    </tr>\n",
       "    <tr>\n",
       "      <th>3</th>\n",
       "      <td>False</td>\n",
       "      <td>False</td>\n",
       "      <td>False</td>\n",
       "      <td>False</td>\n",
       "      <td>False</td>\n",
       "      <td>False</td>\n",
       "      <td>False</td>\n",
       "      <td>False</td>\n",
       "      <td>False</td>\n",
       "      <td>True</td>\n",
       "      <td>...</td>\n",
       "      <td>False</td>\n",
       "      <td>False</td>\n",
       "      <td>False</td>\n",
       "      <td>True</td>\n",
       "      <td>False</td>\n",
       "      <td>False</td>\n",
       "      <td>False</td>\n",
       "      <td>True</td>\n",
       "      <td>True</td>\n",
       "      <td>152</td>\n",
       "    </tr>\n",
       "    <tr>\n",
       "      <th>4</th>\n",
       "      <td>False</td>\n",
       "      <td>False</td>\n",
       "      <td>False</td>\n",
       "      <td>False</td>\n",
       "      <td>False</td>\n",
       "      <td>False</td>\n",
       "      <td>False</td>\n",
       "      <td>False</td>\n",
       "      <td>False</td>\n",
       "      <td>True</td>\n",
       "      <td>...</td>\n",
       "      <td>False</td>\n",
       "      <td>False</td>\n",
       "      <td>False</td>\n",
       "      <td>True</td>\n",
       "      <td>False</td>\n",
       "      <td>False</td>\n",
       "      <td>False</td>\n",
       "      <td>True</td>\n",
       "      <td>True</td>\n",
       "      <td>120</td>\n",
       "    </tr>\n",
       "    <tr>\n",
       "      <th>...</th>\n",
       "      <td>...</td>\n",
       "      <td>...</td>\n",
       "      <td>...</td>\n",
       "      <td>...</td>\n",
       "      <td>...</td>\n",
       "      <td>...</td>\n",
       "      <td>...</td>\n",
       "      <td>...</td>\n",
       "      <td>...</td>\n",
       "      <td>...</td>\n",
       "      <td>...</td>\n",
       "      <td>...</td>\n",
       "      <td>...</td>\n",
       "      <td>...</td>\n",
       "      <td>...</td>\n",
       "      <td>...</td>\n",
       "      <td>...</td>\n",
       "      <td>...</td>\n",
       "      <td>...</td>\n",
       "      <td>...</td>\n",
       "      <td>...</td>\n",
       "    </tr>\n",
       "    <tr>\n",
       "      <th>3109</th>\n",
       "      <td>False</td>\n",
       "      <td>False</td>\n",
       "      <td>False</td>\n",
       "      <td>False</td>\n",
       "      <td>False</td>\n",
       "      <td>False</td>\n",
       "      <td>False</td>\n",
       "      <td>False</td>\n",
       "      <td>True</td>\n",
       "      <td>True</td>\n",
       "      <td>...</td>\n",
       "      <td>False</td>\n",
       "      <td>False</td>\n",
       "      <td>False</td>\n",
       "      <td>True</td>\n",
       "      <td>False</td>\n",
       "      <td>False</td>\n",
       "      <td>False</td>\n",
       "      <td>True</td>\n",
       "      <td>True</td>\n",
       "      <td>134</td>\n",
       "    </tr>\n",
       "    <tr>\n",
       "      <th>3110</th>\n",
       "      <td>False</td>\n",
       "      <td>False</td>\n",
       "      <td>False</td>\n",
       "      <td>False</td>\n",
       "      <td>False</td>\n",
       "      <td>False</td>\n",
       "      <td>False</td>\n",
       "      <td>False</td>\n",
       "      <td>True</td>\n",
       "      <td>True</td>\n",
       "      <td>...</td>\n",
       "      <td>False</td>\n",
       "      <td>False</td>\n",
       "      <td>False</td>\n",
       "      <td>True</td>\n",
       "      <td>False</td>\n",
       "      <td>False</td>\n",
       "      <td>False</td>\n",
       "      <td>True</td>\n",
       "      <td>True</td>\n",
       "      <td>320</td>\n",
       "    </tr>\n",
       "    <tr>\n",
       "      <th>3111</th>\n",
       "      <td>False</td>\n",
       "      <td>False</td>\n",
       "      <td>False</td>\n",
       "      <td>False</td>\n",
       "      <td>False</td>\n",
       "      <td>False</td>\n",
       "      <td>False</td>\n",
       "      <td>False</td>\n",
       "      <td>True</td>\n",
       "      <td>True</td>\n",
       "      <td>...</td>\n",
       "      <td>False</td>\n",
       "      <td>False</td>\n",
       "      <td>False</td>\n",
       "      <td>True</td>\n",
       "      <td>False</td>\n",
       "      <td>False</td>\n",
       "      <td>False</td>\n",
       "      <td>True</td>\n",
       "      <td>True</td>\n",
       "      <td>999998</td>\n",
       "    </tr>\n",
       "    <tr>\n",
       "      <th>3112</th>\n",
       "      <td>False</td>\n",
       "      <td>False</td>\n",
       "      <td>False</td>\n",
       "      <td>False</td>\n",
       "      <td>False</td>\n",
       "      <td>False</td>\n",
       "      <td>False</td>\n",
       "      <td>False</td>\n",
       "      <td>True</td>\n",
       "      <td>True</td>\n",
       "      <td>...</td>\n",
       "      <td>False</td>\n",
       "      <td>False</td>\n",
       "      <td>False</td>\n",
       "      <td>True</td>\n",
       "      <td>False</td>\n",
       "      <td>False</td>\n",
       "      <td>False</td>\n",
       "      <td>True</td>\n",
       "      <td>True</td>\n",
       "      <td>174</td>\n",
       "    </tr>\n",
       "    <tr>\n",
       "      <th>3113</th>\n",
       "      <td>False</td>\n",
       "      <td>False</td>\n",
       "      <td>False</td>\n",
       "      <td>False</td>\n",
       "      <td>False</td>\n",
       "      <td>False</td>\n",
       "      <td>False</td>\n",
       "      <td>False</td>\n",
       "      <td>True</td>\n",
       "      <td>True</td>\n",
       "      <td>...</td>\n",
       "      <td>False</td>\n",
       "      <td>False</td>\n",
       "      <td>False</td>\n",
       "      <td>True</td>\n",
       "      <td>False</td>\n",
       "      <td>False</td>\n",
       "      <td>False</td>\n",
       "      <td>True</td>\n",
       "      <td>True</td>\n",
       "      <td>999998</td>\n",
       "    </tr>\n",
       "  </tbody>\n",
       "</table>\n",
       "<p>6182 rows × 773 columns</p>\n",
       "</div>"
      ],
      "text/plain": [
       "        a1P    b1P    c1P    d1P    e1P    f1P    g1P    h1P    a2P   b2P  \\\n",
       "0     False  False  False  False  False  False  False  False   True  True   \n",
       "1     False  False  False  False  False  False  False  False   True  True   \n",
       "2     False  False  False  False  False  False  False  False  False  True   \n",
       "3     False  False  False  False  False  False  False  False  False  True   \n",
       "4     False  False  False  False  False  False  False  False  False  True   \n",
       "...     ...    ...    ...    ...    ...    ...    ...    ...    ...   ...   \n",
       "3109  False  False  False  False  False  False  False  False   True  True   \n",
       "3110  False  False  False  False  False  False  False  False   True  True   \n",
       "3111  False  False  False  False  False  False  False  False   True  True   \n",
       "3112  False  False  False  False  False  False  False  False   True  True   \n",
       "3113  False  False  False  False  False  False  False  False   True  True   \n",
       "\n",
       "      ...    b8k    c8k    d8k   e8k    f8k    g8k    h8k     k     q   score  \n",
       "0     ...  False  False  False  True  False  False  False  True  True      46  \n",
       "1     ...  False  False  False  True  False  False  False  True  True      83  \n",
       "2     ...  False  False  False  True  False  False  False  True  True      77  \n",
       "3     ...  False  False  False  True  False  False  False  True  True     152  \n",
       "4     ...  False  False  False  True  False  False  False  True  True     120  \n",
       "...   ...    ...    ...    ...   ...    ...    ...    ...   ...   ...     ...  \n",
       "3109  ...  False  False  False  True  False  False  False  True  True     134  \n",
       "3110  ...  False  False  False  True  False  False  False  True  True     320  \n",
       "3111  ...  False  False  False  True  False  False  False  True  True  999998  \n",
       "3112  ...  False  False  False  True  False  False  False  True  True     174  \n",
       "3113  ...  False  False  False  True  False  False  False  True  True  999998  \n",
       "\n",
       "[6182 rows x 773 columns]"
      ]
     },
     "execution_count": 4,
     "metadata": {},
     "output_type": "execute_result"
    }
   ],
   "source": [
    "white_all_df"
   ]
  },
  {
   "cell_type": "code",
   "execution_count": 8,
   "id": "6e148d34",
   "metadata": {},
   "outputs": [],
   "source": [
    "import chess\n",
    "import chess.engine\n",
    "import chess.pgn"
   ]
  },
  {
   "cell_type": "code",
   "execution_count": 9,
   "id": "b86a2f83",
   "metadata": {},
   "outputs": [],
   "source": [
    "PIECES = [chess.PAWN, chess.KNIGHT, chess.BISHOP, chess.ROOK, chess.QUEEN, chess.KING]\n",
    "PLAYERS = [chess.WHITE, chess.BLACK]\n",
    "\n",
    "fix_names_func = {chess.WHITE: lambda x: x.upper(), chess.BLACK: lambda x: x.lower()}"
   ]
  },
  {
   "cell_type": "code",
   "execution_count": 10,
   "id": "fc2fdcea",
   "metadata": {},
   "outputs": [],
   "source": [
    "def get_columns_names():\n",
    "    columns = []\n",
    "    for player in PLAYERS:\n",
    "        for piece in PIECES:\n",
    "            symbol = fix_names_func[player](chess.piece_symbol(piece))\n",
    "            columns.extend(map(lambda square: f\"{square}{symbol}\", chess.SQUARE_NAMES))\n",
    "        columns.append(fix_names_func[player](\"K\"))\n",
    "        columns.append(fix_names_func[player](\"Q\"))\n",
    "    return columns"
   ]
  },
  {
   "cell_type": "code",
   "execution_count": 11,
   "id": "0167c65d",
   "metadata": {},
   "outputs": [
    {
     "data": {
      "text/plain": [
       "(5840, 5865)"
      ]
     },
     "execution_count": 11,
     "metadata": {},
     "output_type": "execute_result"
    }
   ],
   "source": [
    "columns = get_columns_names()\n",
    "\n",
    "white_df = white_all_df.drop_duplicates(subset=columns)\n",
    "black_df = black_all_df.drop_duplicates(subset=columns)\n",
    "\n",
    "white_df.shape[0], black_df.shape[0]"
   ]
  },
  {
   "cell_type": "code",
   "execution_count": 13,
   "id": "e20b837a",
   "metadata": {},
   "outputs": [
    {
     "data": {
      "text/plain": [
       "(4600, 4485)"
      ]
     },
     "execution_count": 13,
     "metadata": {},
     "output_type": "execute_result"
    }
   ],
   "source": [
    "SCORE_THRESHOLD = 50\n",
    "white_dataset = white_df[(white_df['score'] >= SCORE_THRESHOLD) | (white_df['score'] <= -SCORE_THRESHOLD)]\n",
    "black_dataset = black_df[(black_df['score'] >= SCORE_THRESHOLD) | (black_df['score'] <= -SCORE_THRESHOLD)]\n",
    "\n",
    "white_dataset.shape[0], black_dataset.shape[0]"
   ]
  },
  {
   "cell_type": "markdown",
   "id": "a1ced0f8",
   "metadata": {},
   "source": [
    "# Classification"
   ]
  },
  {
   "cell_type": "code",
   "execution_count": 15,
   "id": "4650b56d",
   "metadata": {},
   "outputs": [],
   "source": [
    "from sklearn.model_selection import train_test_split"
   ]
  },
  {
   "cell_type": "code",
   "execution_count": 16,
   "id": "bddb9dc3",
   "metadata": {},
   "outputs": [],
   "source": [
    "from sklearn.linear_model import LogisticRegression\n",
    "\n",
    "def test_lr(dataset):\n",
    "    X = dataset.drop(['score'], axis=1)\n",
    "    Y = dataset['score'] >= SCORE_THRESHOLD\n",
    "    X_trn, X_tst, y_trn, y_tst = train_test_split(X, Y, test_size=0.33, random_state=1)\n",
    "    print(\"score:\", LogisticRegression(random_state=1, max_iter=250).fit(X_trn, y_trn).score(X_tst, y_tst))"
   ]
  },
  {
   "cell_type": "code",
   "execution_count": 17,
   "id": "b02fad32",
   "metadata": {},
   "outputs": [
    {
     "name": "stdout",
     "output_type": "stream",
     "text": [
      "score: 0.8675889328063241\n",
      "score: 0.8399729912221472\n"
     ]
    }
   ],
   "source": [
    "test_lr(white_dataset)\n",
    "test_lr(black_dataset)"
   ]
  },
  {
   "cell_type": "code",
   "execution_count": 18,
   "id": "80cac70e",
   "metadata": {},
   "outputs": [],
   "source": [
    "from sklearn.svm import SVC\n",
    "\n",
    "def test_svc_poly(dataset):\n",
    "    X = dataset.drop(['score'], axis=1)\n",
    "    Y = dataset['score'] >= SCORE_THRESHOLD\n",
    "    X_trn, X_tst, y_trn, y_tst = train_test_split(X, Y, test_size=0.33, random_state=1)\n",
    "    print(\"score:\", SVC(kernel='poly', degree=2).fit(X_trn, y_trn).score(X_tst, y_tst))\n",
    "\n",
    "def test_svc_rbf(dataset):\n",
    "    X = dataset.drop(['score'], axis=1)\n",
    "    Y = dataset['score'] >= SCORE_THRESHOLD\n",
    "    X_trn, X_tst, y_trn, y_tst = train_test_split(X, Y, test_size=0.33, random_state=1)\n",
    "    print(\"score:\", SVC(kernel='rbf', gamma='scale', C=30).fit(X_trn, y_trn).score(X_tst, y_tst)) "
   ]
  },
  {
   "cell_type": "code",
   "execution_count": 19,
   "id": "286e0676",
   "metadata": {},
   "outputs": [
    {
     "name": "stdout",
     "output_type": "stream",
     "text": [
      "score: 0.9235836627140975\n",
      "score: 0.9041188386225524\n"
     ]
    }
   ],
   "source": [
    "test_svc_poly(white_dataset)\n",
    "test_svc_poly(black_dataset)"
   ]
  },
  {
   "cell_type": "code",
   "execution_count": 20,
   "id": "19bcbfc8",
   "metadata": {},
   "outputs": [
    {
     "name": "stdout",
     "output_type": "stream",
     "text": [
      "score: 0.9525691699604744\n",
      "score: 0.9223497636731938\n"
     ]
    }
   ],
   "source": [
    "test_svc_rbf(white_dataset)\n",
    "test_svc_rbf(black_dataset)"
   ]
  },
  {
   "cell_type": "code",
   "execution_count": 21,
   "id": "067a8462",
   "metadata": {},
   "outputs": [],
   "source": [
    "from sklearn.ensemble import RandomForestClassifier\n",
    "\n",
    "def test_rf(dataset):\n",
    "    X = dataset.drop(['score'], axis=1)\n",
    "    Y = dataset['score'] >= SCORE_THRESHOLD\n",
    "    X_trn, X_tst, y_trn, y_tst = train_test_split(X, Y, test_size=0.33, random_state=1)\n",
    "    print(\"score:\", RandomForestClassifier(random_state=1, n_estimators=200).fit(X_trn, y_trn).score(X_tst, y_tst))"
   ]
  },
  {
   "cell_type": "code",
   "execution_count": 22,
   "id": "05fc0219",
   "metadata": {},
   "outputs": [
    {
     "name": "stdout",
     "output_type": "stream",
     "text": [
      "score: 0.9492753623188406\n",
      "score: 0.9237002025658338\n"
     ]
    }
   ],
   "source": [
    "test_rf(white_dataset)\n",
    "test_rf(black_dataset)"
   ]
  },
  {
   "cell_type": "code",
   "execution_count": null,
   "id": "be147141",
   "metadata": {},
   "outputs": [],
   "source": []
  }
 ],
 "metadata": {
  "kernelspec": {
   "display_name": "chess venv",
   "language": "python",
   "name": "venv_chess"
  },
  "language_info": {
   "codemirror_mode": {
    "name": "ipython",
    "version": 3
   },
   "file_extension": ".py",
   "mimetype": "text/x-python",
   "name": "python",
   "nbconvert_exporter": "python",
   "pygments_lexer": "ipython3",
   "version": "3.9.13"
  }
 },
 "nbformat": 4,
 "nbformat_minor": 5
}
